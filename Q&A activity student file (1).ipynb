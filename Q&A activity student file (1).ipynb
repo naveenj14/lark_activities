{
 "cells": [
  {
   "cell_type": "markdown",
   "metadata": {},
   "source": [
    "## 1. Complete the following code to find the area of an equilateral triangle. Output should be as displayed"
   ]
  },
  {
   "cell_type": "code",
   "execution_count": 1,
   "metadata": {},
   "outputs": [
    {
     "name": "stdout",
     "output_type": "stream",
     "text": [
      "Enter the side of the equilateral triangle: 5\n",
      "\n",
      "Area = 10.825\n"
     ]
    }
   ],
   "source": [
    "import math\n",
    "side = float(input(\"Enter the side of the equilateral triangle: \"))\n",
    "area = ((math.sqrt(3))/4)*pow(side,2)\n",
    "print('\\nArea = %5.3f' %(area))"
   ]
  },
  {
   "cell_type": "markdown",
   "metadata": {},
   "source": [
    "## 2. Write a program to count the number of each characters in a string"
   ]
  },
  {
   "cell_type": "code",
   "execution_count": 2,
   "metadata": {},
   "outputs": [
    {
     "name": "stdout",
     "output_type": "stream",
     "text": [
      "Enter the string : Good Morning\n",
      "\n",
      "Length of the entered string = 12\n"
     ]
    }
   ],
   "source": [
    "inputstring = input(\"Enter the string : \" )\n",
    "print(\"\\nLength of the entered string =\", len(inputstring) )"
   ]
  },
  {
   "cell_type": "markdown",
   "metadata": {},
   "source": [
    "## 3. Write a program to find the area and perimeter of a rectangle using functions"
   ]
  },
  {
   "cell_type": "code",
   "execution_count": 3,
   "metadata": {},
   "outputs": [
    {
     "name": "stdout",
     "output_type": "stream",
     "text": [
      "enter the dimensions of the rectangle\n",
      "\n",
      "Length = 5\n",
      "\n",
      "Breadth = 4\n",
      "\n",
      "area of rectangle =  20\n",
      "\n",
      "perimeter of rectangle =  18\n"
     ]
    }
   ],
   "source": [
    "print(\"enter the dimensions of the rectangle\")\n",
    "length = int(input(\"\\nLength = \"))\n",
    "breadth = int(input(\"\\nBreadth = \"))\n",
    "def area(l, b):\n",
    "    ar = l * b\n",
    "    return ar\n",
    "def perimeter(l, b):\n",
    "    peri = 2*(l + b)\n",
    "    return peri\n",
    "print (\"\\narea of rectangle = \", area (length, breadth))\n",
    "print (\"\\nperimeter of rectangle = \", perimeter (length, breadth))"
   ]
  },
  {
   "cell_type": "markdown",
   "metadata": {},
   "source": [
    "## 4. Write a program to print the fibonacci series till a specified number"
   ]
  },
  {
   "cell_type": "code",
   "execution_count": 4,
   "metadata": {},
   "outputs": [
    {
     "name": "stdout",
     "output_type": "stream",
     "text": [
      "enter the number of terms : 5\n",
      "\n",
      " Fibonacci Series : \n",
      "0 \n",
      "\n",
      "1 \n",
      "\n",
      "1 \n",
      "\n",
      "2 \n",
      "\n",
      "3 \n",
      "\n"
     ]
    }
   ],
   "source": [
    "n = int(input(\"enter the number of terms : \"))\n",
    "print(\"\\n Fibonacci Series : \")\n",
    "count = 3\n",
    "term1 = 0\n",
    "term2 = 1\n",
    "if n <= 0:\n",
    "    print (\"Enter a positive integer \")\n",
    "    \n",
    "elif n == 1:\n",
    "    print (term1)\n",
    "    \n",
    "else:\n",
    "    print (term1, \"\\n\")\n",
    "    print (term2, \"\\n\")\n",
    "    while count <= n:\n",
    "        \n",
    "        term3 = term1 + term2\n",
    "        print (term3, \"\\n\")\n",
    "        term1 = term2\n",
    "        term2 = term3\n",
    "        count += 1"
   ]
  },
  {
   "cell_type": "markdown",
   "metadata": {},
   "source": [
    "## 5. Complete the following code to find the minimum of 3 number using conditional statements. Output should be as displayed"
   ]
  },
  {
   "cell_type": "code",
   "execution_count": 5,
   "metadata": {},
   "outputs": [
    {
     "name": "stdout",
     "output_type": "stream",
     "text": [
      "Enter three numbers followed by  : -100 99 24\n",
      "First number : -100\n",
      "Second number : 99\n",
      "Third number : 24\n",
      "-100  is smallest\n"
     ]
    }
   ],
   "source": [
    "a,b,c = input(\"Enter three numbers followed by  : \").split()\n",
    "\n",
    "print(\"First number :\",a)\n",
    "print(\"Second number :\",b)\n",
    "print(\"Third number :\",c)\n",
    "if a==b==c:\n",
    "    print(\"Entered numbers are equal!!!\")\n",
    "elif a<=b and a<=c:\n",
    "    print(a,\" is smallest\")\n",
    "elif b<=a and b<=c:\n",
    "    print(b,\" is smallest\")\n",
    "elif c<=b and c<=b:\n",
    "    print(c,\" is smallest\")"
   ]
  },
  {
   "cell_type": "markdown",
   "metadata": {},
   "source": [
    "## 6. Write a program to print star pyramind. The number of rows should be taken as input from the user"
   ]
  },
  {
   "cell_type": "code",
   "execution_count": 6,
   "metadata": {},
   "outputs": [
    {
     "name": "stdout",
     "output_type": "stream",
     "text": [
      "Enter number of rows for pyramid : 5\n",
      "    * \n",
      "   * * \n",
      "  * * * \n",
      " * * * * \n",
      "* * * * * \n"
     ]
    }
   ],
   "source": [
    "n = int(input(\"Enter number of rows for pyramid : \"))\n",
    "\n",
    "m=n-1\n",
    "for i in range (0, n):\n",
    "    for k in range (0, m):\n",
    "        print(end = \" \")\n",
    "    m = m - 1\n",
    "    for i in range (0, i+1):\n",
    "        print(\"*\", end = \" \")\n",
    "    print(\"\\r\")"
   ]
  },
  {
   "cell_type": "markdown",
   "metadata": {},
   "source": [
    "## 7. Complete the following code to convert hour into seconds. Output should be as displayed"
   ]
  },
  {
   "cell_type": "code",
   "execution_count": 7,
   "metadata": {},
   "outputs": [
    {
     "name": "stdout",
     "output_type": "stream",
     "text": [
      "Enter time in hours : 24\n",
      "24  Hour is equal to 86400  Seconds\n"
     ]
    }
   ],
   "source": [
    "def to_seconds(t):\n",
    "    t = time_in_hours*60*60\n",
    "    return t\n",
    "\n",
    "time_in_hours = int(input(\"Enter time in hours : \"))\n",
    "print(time_in_hours ,\" Hour is equal to\" ,to_seconds(time_in_hours) ,\" Seconds\")"
   ]
  },
  {
   "cell_type": "markdown",
   "metadata": {},
   "source": [
    "## 8. Write a program to print multiplication table as below"
   ]
  },
  {
   "cell_type": "code",
   "execution_count": 8,
   "metadata": {},
   "outputs": [
    {
     "name": "stdout",
     "output_type": "stream",
     "text": [
      "Enter a number to find the multiplication table: 67\n",
      "1 x 67 = 67\n",
      "2 x 67 = 134\n",
      "3 x 67 = 201\n",
      "4 x 67 = 268\n",
      "5 x 67 = 335\n",
      "6 x 67 = 402\n",
      "7 x 67 = 469\n",
      "8 x 67 = 536\n",
      "9 x 67 = 603\n",
      "10 x 67 = 670\n"
     ]
    }
   ],
   "source": [
    "n = int(input(\"Enter a number to find the multiplication table: \"))\n",
    "for i in range (1, 11):\n",
    "    print(i, \"x\", n, \"=\", i*n)"
   ]
  },
  {
   "cell_type": "markdown",
   "metadata": {},
   "source": [
    "## 9. Write a program to take your 5 favorite food as list and print each as 'I like Biriyani'"
   ]
  },
  {
   "cell_type": "code",
   "execution_count": 9,
   "metadata": {},
   "outputs": [
    {
     "name": "stdout",
     "output_type": "stream",
     "text": [
      "Enter 5 favourite foods: \n",
      "Biriyani\n",
      "Appam\n",
      "Dosa\n",
      "Idli\n",
      "Chaya\n",
      "\n",
      "\n",
      "\n",
      " I like  Biriyani\n",
      "\n",
      " I like  Appam\n",
      "\n",
      " I like  Dosa\n",
      "\n",
      " I like  Idli\n",
      "\n",
      " I like  Chaya\n"
     ]
    }
   ],
   "source": [
    "foodlist = []\n",
    "print(\"Enter 5 favourite foods: \")\n",
    "for i in range (0, 5):\n",
    "    food = str(input())\n",
    "    foodlist.append(food)\n",
    "print(\"\\n\")\n",
    "for i in range (0, 5):\n",
    "    print (\"\\n I like \", foodlist[i])"
   ]
  }
 ],
 "metadata": {
  "kernelspec": {
   "display_name": "Python 3 (ipykernel)",
   "language": "python",
   "name": "python3"
  },
  "language_info": {
   "codemirror_mode": {
    "name": "ipython",
    "version": 3
   },
   "file_extension": ".py",
   "mimetype": "text/x-python",
   "name": "python",
   "nbconvert_exporter": "python",
   "pygments_lexer": "ipython3",
   "version": "3.9.7"
  }
 },
 "nbformat": 4,
 "nbformat_minor": 4
}
